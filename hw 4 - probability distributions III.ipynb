{
 "cells": [
  {
   "cell_type": "code",
   "execution_count": 5,
   "id": "c3c85b51",
   "metadata": {},
   "outputs": [
    {
     "name": "stdout",
     "output_type": "stream",
     "text": [
      "n = 5:  CI = (8.247, 11.753)\n",
      "n = 10:  CI = (8.760, 11.240)\n",
      "n = 20:  CI = (9.123, 10.877)\n",
      "n = 40:  CI = (9.380, 10.620)\n",
      "n = 80:  CI = (9.562, 10.438)\n",
      "n = 160:  CI = (9.690, 10.310)\n",
      "n = 1000:  CI = (9.876, 10.124)\n"
     ]
    }
   ],
   "source": [
    "# ------------\n",
    "#  APPROACH 1\n",
    "# ------------\n",
    "\n",
    "import numpy as np \n",
    "from scipy.stats import norm\n",
    "\n",
    "s = 2     # standard deviation\n",
    "x = 10    # mean\n",
    "n = [5, 10, 20, 40, 80, 160, 1000]\n",
    "\n",
    "SEM = s / np.sqrt(n)   \n",
    "\n",
    "z_score = norm.ppf(0.975)\n",
    "\n",
    "CI_lower = x - SEM * z_score\n",
    "CI_upper = x + SEM * z_score\n",
    "\n",
    "for i, ni in enumerate(n):\n",
    "    print(f\"n = {ni}:  CI = ({CI_lower[i]:.3f}, {CI_upper[i]:.3f})\")"
   ]
  },
  {
   "cell_type": "code",
   "execution_count": 6,
   "id": "3773df4c",
   "metadata": {},
   "outputs": [
    {
     "name": "stdout",
     "output_type": "stream",
     "text": [
      "n = 5:  CI = (7.517, 12.483)\n",
      "n = 10:  CI = (8.569, 11.431)\n",
      "n = 20:  CI = (9.064, 10.936)\n",
      "n = 40:  CI = (9.360, 10.640)\n",
      "n = 80:  CI = (9.555, 10.445)\n",
      "n = 160:  CI = (9.688, 10.312)\n",
      "n = 1000:  CI = (9.876, 10.124)\n"
     ]
    }
   ],
   "source": [
    "# ------------\n",
    "#  APPROACH 2\n",
    "# ------------\n",
    "\n",
    "import numpy as np \n",
    "from scipy.stats import t\n",
    "\n",
    "s = 2     # standard deviation\n",
    "x = 10    # mean\n",
    "n = np.array([5, 10, 20, 40, 80, 160, 1000])\n",
    "\n",
    "SEM = s / np.sqrt(n)   \n",
    "\n",
    "t_score = t.ppf(0.975, df=n-1)\n",
    "\n",
    "CI_lower = x - SEM * t_score\n",
    "CI_upper = x + SEM * t_score\n",
    "\n",
    "for i, ni in enumerate(n):\n",
    "    print(f\"n = {ni}:  CI = ({CI_lower[i]:.3f}, {CI_upper[i]:.3f})\")"
   ]
  },
  {
   "cell_type": "code",
   "execution_count": 7,
   "id": "bf7e36ae",
   "metadata": {},
   "outputs": [
    {
     "name": "stdout",
     "output_type": "stream",
     "text": [
      "n=   5, observed mean=9.602, bootstrap CI=(7.543, 11.475)\n",
      "n=  10, observed mean=9.732, bootstrap CI=(8.637, 10.970)\n",
      "n=  20, observed mean=9.474, bootstrap CI=(8.533, 10.507)\n",
      "n=  40, observed mean=10.698, bootstrap CI=(9.983, 11.404)\n",
      "n=  80, observed mean=9.793, bootstrap CI=(9.298, 10.292)\n",
      "n= 160, observed mean=9.921, bootstrap CI=(9.595, 10.251)\n",
      "n=1000, observed mean=9.932, bootstrap CI=(9.807, 10.057)\n"
     ]
    }
   ],
   "source": [
    "# ------------\n",
    "#  APPROACH 3\n",
    "# ------------\n",
    "\n",
    "import numpy as np\n",
    "\n",
    "mu = 10   \n",
    "sigma = 2 \n",
    "n_array = np.array([5, 10, 20, 40, 80, 160, 1000])\n",
    "\n",
    "n_boot = 10000   # number resamples\n",
    "rng = np.random.default_rng(42)  \n",
    "\n",
    "results = []\n",
    "\n",
    "for n in n_array:\n",
    "    data = rng.normal(mu, sigma, n)\n",
    "    \n",
    "    # bootstrap resampling\n",
    "    boot_means = []\n",
    "    for _ in range(n_boot):\n",
    "        sample = rng.choice(data, size=n, replace=True)\n",
    "        boot_means.append(sample.mean())\n",
    "    \n",
    "    boot_means = np.array(boot_means)\n",
    "    \n",
    "    # CI = 2.5th and 97.5th percentile\n",
    "    CI_lower, CI_upper = np.percentile(boot_means, [2.5, 97.5])\n",
    "    \n",
    "    results.append((n, data.mean(), CI_lower, CI_upper))\n",
    "\n",
    "# print results\n",
    "for n, mean_obs, l, u in results:\n",
    "    print(f\"n={n:4d}, observed mean={mean_obs:.3f}, bootstrap CI=({l:.3f}, {u:.3f})\")"
   ]
  },
  {
   "cell_type": "code",
   "execution_count": 8,
   "id": "f870a528",
   "metadata": {},
   "outputs": [
    {
     "name": "stdout",
     "output_type": "stream",
     "text": [
      "n = 5:  CI = (7.517, 12.483)\n",
      "n = 10:  CI = (8.569, 11.431)\n",
      "n = 20:  CI = (9.064, 10.936)\n",
      "n = 40:  CI = (9.360, 10.640)\n",
      "n = 80:  CI = (9.555, 10.445)\n",
      "n = 160:  CI = (9.688, 10.312)\n",
      "n = 1000:  CI = (9.876, 10.124)\n"
     ]
    }
   ],
   "source": [
    "# ------------\n",
    "#  APPROACH 4\n",
    "# ------------\n",
    "#technically the same as student's t distribution?\n",
    "\n",
    "import numpy as np \n",
    "from scipy.stats import t\n",
    "\n",
    "s = 2     # standard deviation\n",
    "x = 10    # mean\n",
    "n = np.array([5, 10, 20, 40, 80, 160, 1000])\n",
    "\n",
    "SEM = s / np.sqrt(n)   \n",
    "\n",
    "t_score = t.ppf(0.975, df=n-1)\n",
    "\n",
    "CI_lower = x - SEM * t_score\n",
    "CI_upper = x + SEM * t_score\n",
    "\n",
    "for i, ni in enumerate(n):\n",
    "    print(f\"n = {ni}:  CI = ({CI_lower[i]:.3f}, {CI_upper[i]:.3f})\")\n"
   ]
  }
 ],
 "metadata": {
  "kernelspec": {
   "display_name": "neuroenv",
   "language": "python",
   "name": "python3"
  },
  "language_info": {
   "codemirror_mode": {
    "name": "ipython",
    "version": 3
   },
   "file_extension": ".py",
   "mimetype": "text/x-python",
   "name": "python",
   "nbconvert_exporter": "python",
   "pygments_lexer": "ipython3",
   "version": "3.10.18"
  }
 },
 "nbformat": 4,
 "nbformat_minor": 5
}

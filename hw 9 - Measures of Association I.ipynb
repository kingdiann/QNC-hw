{
 "cells": [
  {
   "cell_type": "code",
   "execution_count": null,
   "id": "421c713d",
   "metadata": {},
   "outputs": [
    {
     "data": {
      "image/png": "[encoded data removed]",
      "text/plain": [
       "<Figure size 640x480 with 1 Axes>"
      ]
     },
     "metadata": {},
     "output_type": "display_data"
    }
   ],
   "source": [
    "# --------------\n",
    "# Exercise 1\n",
    "# --------------\n",
    "\n",
    "import matplotlib.pyplot as plt\n",
    "\n",
    "X = [10.4, 10.8, 11.1, 10.2, 10.3, 10.2, 10.7, 10.5, 10.8, 11.2, 10.6, 11.4]\n",
    "Y = [7.4, 7.6, 7.9, 7.2, 7.4, 7.1, 7.4, 7.2, 7.8, 7.7, 7.8, 8.3] \n",
    "\n",
    "plt.plot(X, Y, 'o')\n",
    "plt.xlabel(\"Wing length\")\n",
    "plt.ylabel(\"Tail length\")\n",
    "plt.show()"
   ]
  },
  {
   "cell_type": "markdown",
   "id": "83672d3e",
   "metadata": {},
   "source": [
    "Yes the values of wing length and tail length seem positively correlated"
   ]
  },
  {
   "cell_type": "code",
   "execution_count": 4,
   "id": "e50ca664",
   "metadata": {},
   "outputs": [
    {
     "name": "stdout",
     "output_type": "stream",
     "text": [
      "manual Pearson's r: 0.8703545613058226\n",
      "corrcoef Pearson's r: 0.8703545613058227\n"
     ]
    }
   ],
   "source": [
    "# --------------\n",
    "# Exercise 2\n",
    "# --------------\n",
    "\n",
    "import numpy as np\n",
    "\n",
    "# Data\n",
    "X = np.array([10.4, 10.8, 11.1, 10.2, 10.3, 10.2, 10.7, 10.5, 10.8, 11.2, 10.6, 11.4])\n",
    "Y = np.array([7.4, 7.6, 7.9, 7.2, 7.4, 7.1, 7.4, 7.2, 7.8, 7.7, 7.8, 8.3])\n",
    "\n",
    "# Step 1: Compute means\n",
    "mean_x = np.mean(X)\n",
    "mean_y = np.mean(Y)\n",
    "\n",
    "# Step 2: Compute deviations from mean\n",
    "dx = X - mean_x\n",
    "dy = Y - mean_y\n",
    "\n",
    "# Step 3: Compute numerator (covariance sum)\n",
    "numerator = np.sum(dx * dy)\n",
    "\n",
    "# Step 4: Compute denominator (sqrt of sum of squares)\n",
    "denominator = np.sqrt(np.sum(dx**2) * np.sum(dy**2))\n",
    "\n",
    "# Step 5: Pearson correlation\n",
    "r_manual = numerator / denominator\n",
    "\n",
    "print(\"manual Pearson's r:\", r_manual)\n",
    "\n",
    "# using built-it \n",
    "r_python = np.corrcoef(X, Y)[0, 1]\n",
    "\n",
    "print(\"corrcoef Pearson's r:\", r_python)"
   ]
  },
  {
   "cell_type": "code",
   "execution_count": 8,
   "id": "8bbe55b8",
   "metadata": {},
   "outputs": [
    {
     "name": "stdout",
     "output_type": "stream",
     "text": [
      "standard error of Pearson's correlation 0.15571863652567375\n",
      "Confidence interval: 0.5923032846726551 0.9631607285142775\n"
     ]
    }
   ],
   "source": [
    "# --------------\n",
    "# Exercise 3\n",
    "# --------------\n",
    "\n",
    "import numpy as np\n",
    "\n",
    "r = r_python  # <-- your computed Pearson r\n",
    "n = 12\n",
    "\n",
    "# Standard error of r\n",
    "numerator = (1 - r**2)\n",
    "denominator = (n - 2)\n",
    "Sr = np.sqrt(numerator / denominator)\n",
    "\n",
    "print(\"standard error of Pearson's correlation\", Sr)\n",
    "\n",
    "# 1. Fisher's z transformation of r\n",
    "z = 0.5 * (np.log((1 + r) / (1 - r)))\n",
    "\n",
    "# 2. Compute its standard deviation \n",
    "Sz = np.sqrt(1 / (n - 3))\n",
    "\n",
    "# 3. Compute confidence intervals in this z space (95% CI)\n",
    "z_plus = z + 1.96 * Sz\n",
    "z_minus = z - 1.96 * Sz\n",
    "\n",
    "# 4. Translate z values back to r\n",
    "r_upper = (np.exp(2 * z_plus) - 1) / (np.exp(2 * z_plus) + 1)\n",
    "r_lower = (np.exp(2 * z_minus) - 1) / (np.exp(2 * z_minus) + 1)\n",
    "\n",
    "print(\"Confidence interval:\", r_lower, r_upper)\n"
   ]
  },
  {
   "cell_type": "code",
   "execution_count": null,
   "id": "b33d5415",
   "metadata": {},
   "outputs": [
    {
     "name": "stdout",
     "output_type": "stream",
     "text": [
      "Reject H0: r ≠ 0. p = 0.0002, t = 5.589, df = 10\n"
     ]
    }
   ],
   "source": [
    "# --------------\n",
    "# Exercise 4\n",
    "# --------------\n",
    "\n",
    "import numpy as np\n",
    "from scipy import stats\n",
    "\n",
    "t = np.sum(r/Sr)\n",
    "df = n - 2\n",
    "alpha = 0.05\n",
    "n = 12\n",
    "\n",
    "p_value = 2 * stats.t.sf(np.abs(t), df)   \n",
    "\n",
    "if p_value < alpha:\n",
    "    print(f\"Reject H0: r ≠ 0. p = {p_value:.4f}, t = {t:.3f}\")\n",
    "else:\n",
    "    print(f\"Fail to reject H0 (not significant). p = {p_value:.4f}, t = {t:.3f}\")\n"
   ]
  },
  {
   "cell_type": "code",
   "execution_count": null,
   "id": "94a6834a",
   "metadata": {},
   "outputs": [
    {
     "name": "stdout",
     "output_type": "stream",
     "text": [
      "Fail to reject H0 (not significant). p = 0.3035, t = 1.085, df = 10\n"
     ]
    }
   ],
   "source": [
    "# --------------\n",
    "# Exercise 5\n",
    "# --------------\n",
    "\n",
    "import numpy as np\n",
    "from scipy import stats\n",
    "\n",
    "rs = 0.75\n",
    "df = n - 2\n",
    "alpha = 0.05\n",
    "n = 12\n",
    "\n",
    "# Fisher's z transformation of rs\n",
    "z_rs = 0.5 * (np.log((1 + rs) / (1 - rs)))\n",
    "\n",
    "# Compute test statistic\n",
    "numerator = np.sum(z - z_rs)\n",
    "denominator = np.sqrt(1/(n - 3))\n",
    "t_lambda = np.sum(numerator/denominator)\n",
    "\n",
    "p_value = 2 * stats.t.sf(np.abs(t_lambda), df)   \n",
    "\n",
    "if p_value < alpha:\n",
    "    print(f\"Reject H0: r ≠ 0. p = {p_value:.4f}, t = {t_lambda:.3f}\")\n",
    "else:\n",
    "    print(f\"Fail to reject H0 (not significant). p = {p_value:.4f}, t = {t_lambda:.3f}\")"
   ]
  },
  {
   "cell_type": "code",
   "execution_count": null,
   "id": "15711f4e",
   "metadata": {},
   "outputs": [],
   "source": [
    "# --------------\n",
    "# Exercise 6\n",
    "# --------------\n",
    "\n",
    "import numpy as np\n",
    "from statsmodels.stats.power import NormalIndPower\n",
    "\n",
    "# Parameters\n",
    "alpha = 0.05   # significance level\n",
    "power_target = 0.80   # desired power (80%)\n",
    "effect_size_r = 0.5   # correlation threshold\n",
    "\n",
    "effect_size_z = np.arctanh(effect_size_r)  # Fisher's z\n",
    "\n",
    "# Compute required sample size\n",
    "analysis = NormalIndPower()\n",
    "n_required = analysis.solve_power(effect_size=effect_size_z,\n",
    "                                  power=power_target,\n",
    "                                  alpha=alpha,\n",
    "                                  alternative='two-sided')\n",
    "\n",
    "print(f\"Required sample size to detect r ≥ {effect_size_r}: {np.ceil(n_required)}\")\n",
    "\n",
    "# Compute actual power for a given n (say n=12 from your data)\n",
    "n_actual = 12\n",
    "power_actual = analysis.power(effect_size=effect_size_z,\n",
    "                              nobs=n_actual,\n",
    "                              alpha=alpha,\n",
    "                              alternative='two-sided')\n",
    "\n",
    "print(f\"Statistical power with n={n_actual}: {power_actual:.3f}\")\n"
   ]
  }
 ],
 "metadata": {
  "kernelspec": {
   "display_name": "neuroenv",
   "language": "python",
   "name": "python3"
  },
  "language_info": {
   "codemirror_mode": {
    "name": "ipython",
    "version": 3
   },
   "file_extension": ".py",
   "mimetype": "text/x-python",
   "name": "python",
   "nbconvert_exporter": "python",
   "pygments_lexer": "ipython3",
   "version": "3.10.18"
  }
 },
 "nbformat": 4,
 "nbformat_minor": 5
}

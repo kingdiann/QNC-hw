{
 "cells": [
  {
   "cell_type": "code",
   "execution_count": null,
   "id": "8b5f1d4d",
   "metadata": {},
   "outputs": [],
   "source": [
    "# -----------------\n",
    "# Exercise 1\n",
    "# -----------------\n",
    "\n",
    "import numpy as np\n",
    "import matplotlib.pyplot as plt\n",
    "from scipy.stats import binom\n",
    "\n",
    "# parameters\n",
    "n = 10   # number of quanta\n",
    "p = 0.2  # release probability\n",
    "\n",
    "# possible outcomes: 0 to 10 quanta released\n",
    "k = np.arange(0, n+1)\n",
    "\n",
    "# exact binomial probabilities\n",
    "probs = binom.pmf(k, n, p)\n",
    "\n",
    "# print probabilities\n",
    "for i, pr in zip(k, probs):\n",
    "    print(f\"P({i} quanta) = {pr:.4f}\")\n",
    "\n",
    "# plot\n",
    "plt.bar(k, probs)\n",
    "plt.xlabel('Number of quanta released')\n",
    "plt.ylabel('Probability')\n",
    "plt.title(f'Binomial Distribution (n={n}, p={p})')\n",
    "plt.show()"
   ]
  },
  {
   "cell_type": "code",
   "execution_count": null,
   "id": "91ff53ed",
   "metadata": {},
   "outputs": [],
   "source": [
    "# -----------------\n",
    "# Exercise 2\n",
    "# -----------------\n",
    "\n",
    "# parameters\n",
    "n = 14   # number of quanta\n",
    "p = np.arange(0.1, 1.1, 0.1) # release probability 0.1 to 1\n",
    "k = 8 # known quantal release\n",
    "\n",
    "# exact binomial probabilities\n",
    "probs = binom.pmf(k, n, p)\n",
    "\n",
    "# print probabilities\n",
    "for pi, pr in zip(p, probs):\n",
    "    print(f\"P(k={k} | p={pi:.1f}) = {pr:.6f}\")\n",
    "\n",
    "# plot\n",
    "plt.bar(p, probs, width=0.05)\n",
    "plt.xlabel('Release probability p')\n",
    "plt.ylabel(f'P({k} quanta)')\n",
    "plt.title(f'Binomial probabilities (n={n}, k={k})')\n",
    "plt.show()"
   ]
  },
  {
   "cell_type": "markdown",
   "id": "8967bfd8",
   "metadata": {},
   "source": [
    "the probability you would get 8 quanta given the release rate was 0.1 is 0.000016\n",
    "P(k=8 | p=0.7) = 0.126202\n",
    "the most probable release rate is 0.6 "
   ]
  },
  {
   "cell_type": "code",
   "execution_count": null,
   "id": "f24eea78",
   "metadata": {},
   "outputs": [],
   "source": [
    "# -----------------\n",
    "# Exercise 3\n",
    "# -----------------\n",
    "\n",
    "# parameters\n",
    "n = 14   # number of quanta\n",
    "p = np.arange(0.1, 1.1, 0.1) # release probability 0.1 to 1\n",
    "k2 = 5 # known quantal release\n",
    "\n",
    "# exact binomial probabilities\n",
    "probs2 = binom.pmf(k2, n, p)\n",
    "\n",
    "# print probabilities\n",
    "for pi, pr in zip(p, probs2):\n",
    "    print(f\"P(k={k2} | p={pi:.1f}) = {pr:.6f}\")\n",
    "\n",
    "comb_probs = probs * probs2\n",
    "log_comb_probs = np.log(probs) + np.log(probs2) \n",
    "\n",
    "# print probabilities\n",
    "print(f\"combined likelihoods\")\n",
    "for pi, pr in zip(p, comb_probs):\n",
    "    print(f\"P(k={k2} | p={pi:.1f}) = {pr:.6f}\")\n",
    "\n",
    "print(f\"combined log-likelihoods\")\n",
    "for pi, pr in zip(p, log_comb_probs):\n",
    "    print(f\"P(k={k2} | p={pi:.1f}) = {pr:.6f}\")"
   ]
  },
  {
   "cell_type": "markdown",
   "id": "8947223e",
   "metadata": {},
   "source": [
    "combined likelihoods:\n",
    "P(k=5 | p=0.1) = 0.000000\n",
    "\n",
    "combined log-likelihoods:\n",
    "P(k=5 | p=0.1) = -15.904745\n",
    "\n",
    "maximum value is at p=0.5\n",
    "\n",
    "increasing sample size would reduce the number of maximum likelihood estimates which in turn would sharpen the curve towards a specific probability value "
   ]
  },
  {
   "cell_type": "markdown",
   "id": "7cddf05d",
   "metadata": {},
   "source": [
    "Exercise 4\n",
    "\n",
    "p̂​  = x/n\n",
    "x = number of successes \n",
    "n = total number of observations \n",
    "\n",
    "p̂ = (0x0 + 1x0 + 2x3 + ... + 14x0)/(107x14) = 653/1498 = 0.44"
   ]
  }
 ],
 "metadata": {
  "kernelspec": {
   "display_name": "neuroenv",
   "language": "python",
   "name": "python3"
  },
  "language_info": {
   "codemirror_mode": {
    "name": "ipython",
    "version": 3
   },
   "file_extension": ".py",
   "mimetype": "text/x-python",
   "name": "python",
   "nbconvert_exporter": "python",
   "pygments_lexer": "ipython3",
   "version": "3.10.18"
  }
 },
 "nbformat": 4,
 "nbformat_minor": 5
}

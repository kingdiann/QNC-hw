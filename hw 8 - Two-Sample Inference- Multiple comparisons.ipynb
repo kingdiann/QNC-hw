{
 "cells": [
  {
   "cell_type": "code",
   "execution_count": 2,
   "id": "e877efb1",
   "metadata": {},
   "outputs": [],
   "source": [
    "import numpy as np \n",
    "from scipy import stats"
   ]
  },
  {
   "cell_type": "code",
   "execution_count": 11,
   "id": "4ceccdb5",
   "metadata": {},
   "outputs": [
    {
     "name": "stdout",
     "output_type": "stream",
     "text": [
      "p values < 0.05: 58\n",
      "p values < bonferroni corrected alpha: 0\n",
      "p values < BH threshold: 0\n"
     ]
    }
   ],
   "source": [
    "# ---------------------\n",
    "# EQUAL MEANS\n",
    "# ---------------------\n",
    "\n",
    "mu1 = 0\n",
    "mu2 = 0\n",
    "n1 = 100\n",
    "n2 = 100\n",
    "N = 1000\n",
    "alpha = 0.05\n",
    "Q = 0.05\n",
    "\n",
    "p_values = []\n",
    "for i in range(N):\n",
    "    x = np.random.normal(mu1, 1, n1)\n",
    "    y = np.random.normal(mu2, 1, n2)\n",
    "    t, p = stats.ttest_ind(x, y, equal_var=True)\n",
    "    p_values.append(p)\n",
    "\n",
    "p_values = np.array(p_values)\n",
    "\n",
    "# ---------------------\n",
    "# No corrections \n",
    "# ---------------------\n",
    "raw_sig = np.sum(p_values < alpha)\n",
    "print(\"p values < 0.05:\", raw_sig)\n",
    "\n",
    "# ---------------------\n",
    "# Bonferroni correction \n",
    "# ---------------------\n",
    "bonf_alpha = alpha / N\n",
    "bonf_sig = np.sum(p_values < bonf_alpha)\n",
    "print(\"p values < bonferroni corrected alpha:\", bonf_sig)\n",
    "\n",
    "# ---------------------\n",
    "# Benjamini–Hochberg procedure \n",
    "# ---------------------\n",
    "sorted_idx = np.argsort(p_values)\n",
    "sorted_p = p_values[sorted_idx]\n",
    "critical_values = (np.arange(1, N+1) / N) * Q\n",
    "below = sorted_p <= critical_values\n",
    "if np.any(below):\n",
    "    max_i = np.max(np.where(below)[0])\n",
    "    bh_threshold = sorted_p[max_i]\n",
    "    bh_sig = np.sum(p_values <= bh_threshold)\n",
    "else:\n",
    "    bh_threshold = 0.0\n",
    "    bh_sig = 0\n",
    "print(\"p values < BH threshold:\", bh_sig)"
   ]
  },
  {
   "cell_type": "code",
   "execution_count": null,
   "id": "da87142e",
   "metadata": {},
   "outputs": [
    {
     "name": "stdout",
     "output_type": "stream",
     "text": [
      "mu2 =  2\n",
      "p values < 0.05: 1000\n",
      "p values < bonferroni corrected alpha 998\n",
      "p values < BH threshold: 1000\n",
      "mu2 =  2.5\n",
      "p values < 0.05: 1000\n",
      "p values < bonferroni corrected alpha 1000\n",
      "p values < BH threshold: 1000\n",
      "mu2 =  3\n",
      "p values < 0.05: 1000\n",
      "p values < bonferroni corrected alpha 1000\n",
      "p values < BH threshold: 1000\n",
      "mu2 =  3.5\n",
      "p values < 0.05: 1000\n",
      "p values < bonferroni corrected alpha 1000\n",
      "p values < BH threshold: 1000\n"
     ]
    }
   ],
   "source": [
    "# ---------------------\n",
    "# UNEQUAL MEANS\n",
    "# ---------------------\n",
    "\n",
    "mu1 = 1\n",
    "mu2 = (2, 2.5, 3, 3.5)\n",
    "n1 = 100\n",
    "n2 = 100\n",
    "N = 1000\n",
    "alpha = 0.05\n",
    "Q = 0.05\n",
    "\n",
    "for mu2 in mu2: \n",
    "    p_values = []\n",
    "    for i in range(N):\n",
    "        x = np.random.normal(mu1, 1, n1)\n",
    "        y = np.random.normal(mu2, 1, n2)\n",
    "        t, p = stats.ttest_ind(x, y, equal_var=True)\n",
    "        p_values.append(p)\n",
    "\n",
    "    p_values = np.array(p_values)\n",
    "\n",
    "    print(\"mu2 = \", mu2)\n",
    "    # ---------------------\n",
    "    # No corrections\n",
    "    # ---------------------\n",
    "    raw_sig = np.sum(p_values < alpha)\n",
    "    print(\"p values < 0.05:\", raw_sig)\n",
    "\n",
    "    # ---------------------\n",
    "    # Bonferroni correction \n",
    "    # ---------------------\n",
    "    bonf_alpha = alpha / N\n",
    "    bonf_sig = np.sum(p_values < bonf_alpha)\n",
    "    print(\"p values < bonferroni corrected alpha:\", bonf_sig)\n",
    "\n",
    "    # ---------------------\n",
    "    # Benjamini–Hochberg procedure \n",
    "    # ---------------------\n",
    "    sorted_idx = np.argsort(p_values)\n",
    "    sorted_p = p_values[sorted_idx]\n",
    "    critical_values = (np.arange(1, N+1) / N) * Q\n",
    "    below = sorted_p <= critical_values\n",
    "    if np.any(below):\n",
    "        max_i = np.max(np.where(below)[0])\n",
    "        bh_threshold = sorted_p[max_i]\n",
    "        bh_sig = np.sum(p_values <= bh_threshold)\n",
    "    else:\n",
    "        bh_threshold = 0.0\n",
    "        bh_sig = 0\n",
    "    \n",
    "    print(\"p values < BH threshold:\", bh_sig)"
   ]
  }
 ],
 "metadata": {
  "kernelspec": {
   "display_name": "neuroenv",
   "language": "python",
   "name": "python3"
  },
  "language_info": {
   "codemirror_mode": {
    "name": "ipython",
    "version": 3
   },
   "file_extension": ".py",
   "mimetype": "text/x-python",
   "name": "python",
   "nbconvert_exporter": "python",
   "pygments_lexer": "ipython3",
   "version": "3.10.18"
  }
 },
 "nbformat": 4,
 "nbformat_minor": 5
}
